{
  "nbformat": 4,
  "nbformat_minor": 0,
  "metadata": {
    "colab": {
      "provenance": []
    },
    "kernelspec": {
      "name": "python3",
      "display_name": "Python 3"
    },
    "language_info": {
      "name": "python"
    }
  },
  "cells": [
    {
      "cell_type": "markdown",
      "source": [
        "Import Library"
      ],
      "metadata": {
        "id": "g1Ha7FUhFr6m"
      }
    },
    {
      "cell_type": "code",
      "execution_count": null,
      "metadata": {
        "id": "8iJtF-n2CCLq"
      },
      "outputs": [],
      "source": [
        "import numpy as np\n",
        "import pandas as pd\n",
        "import tensorflow as tf\n",
        "import itertools\n",
        "import matplotlib.pyplot as plt\n",
        "\n",
        "from sklearn.preprocessing import MinMaxScaler\n",
        "from sklearn.preprocessing import StandardScaler\n",
        "from sklearn.preprocessing import LabelEncoder\n",
        "\n",
        "from sklearn.model_selection import train_test_split\n",
        "from sklearn.metrics import confusion_matrix"
      ]
    },
    {
      "cell_type": "code",
      "source": [
        "!pip install -U -q PyDrive\n",
        "\n",
        "from pydrive.auth import GoogleAuth\n",
        "from pydrive.drive import GoogleDrive\n",
        "from google.colab import auth\n",
        "from oauth2client.client import GoogleCredentials"
      ],
      "metadata": {
        "id": "xOZXmylViHV0"
      },
      "execution_count": null,
      "outputs": []
    },
    {
      "cell_type": "code",
      "source": [
        "auth.authenticate_user()\n",
        "gauth = GoogleAuth()\n",
        "gauth.credentials = GoogleCredentials.get_application_default()\n",
        "drive = GoogleDrive(gauth)"
      ],
      "metadata": {
        "id": "u-DFHrafiWTy"
      },
      "execution_count": null,
      "outputs": []
    },
    {
      "cell_type": "code",
      "source": [
        "fileDownloaded = drive.CreateFile({'id':'10sFNtaAXsIKIX18ldF1ouAKMtOFqEswh'})"
      ],
      "metadata": {
        "id": "_KafCBMkihYJ"
      },
      "execution_count": null,
      "outputs": []
    },
    {
      "cell_type": "code",
      "source": [
        "fileDownloaded.GetContentFile('Dataset_Normalisasi.xlsx')"
      ],
      "metadata": {
        "id": "mDElQx8jjDSy"
      },
      "execution_count": null,
      "outputs": []
    },
    {
      "cell_type": "markdown",
      "source": [
        "Pengumpulan Data"
      ],
      "metadata": {
        "id": "YhHbyG22FqJN"
      }
    },
    {
      "cell_type": "code",
      "source": [
        "data = pd.read_csv(\"dataset_sample.csv\")\n",
        "data.head()"
      ],
      "metadata": {
        "colab": {
          "base_uri": "https://localhost:8080/",
          "height": 250
        },
        "id": "jA1HSgSKBNx-",
        "outputId": "13201454-0c44-4385-ede6-6baf840f8071"
      },
      "execution_count": null,
      "outputs": [
        {
          "output_type": "execute_result",
          "data": {
            "text/plain": [
              "      tanggal  pm10  pm25  so2  co  o3  no2  max critical categori location\n",
              "0  2021-12-01    63   100   43  13  41   30  100     PM25   SEDANG     DKI4\n",
              "1  2021-12-02    35    56   42   7  40   14   56     PM25   SEDANG     DKI4\n",
              "2  2021-12-03    54    71   43   9  48   17   71     PM25   SEDANG     DKI4\n",
              "3  2021-12-04    50    65   45  13  43   16   65     PM25   SEDANG     DKI3\n",
              "4  2021-12-05    53    80   44  17  39   29   80     PM25   SEDANG     DKI4"
            ],
            "text/html": [
              "\n",
              "  <div id=\"df-699ddd8f-2708-4dc3-91ee-95b358823796\">\n",
              "    <div class=\"colab-df-container\">\n",
              "      <div>\n",
              "<style scoped>\n",
              "    .dataframe tbody tr th:only-of-type {\n",
              "        vertical-align: middle;\n",
              "    }\n",
              "\n",
              "    .dataframe tbody tr th {\n",
              "        vertical-align: top;\n",
              "    }\n",
              "\n",
              "    .dataframe thead th {\n",
              "        text-align: right;\n",
              "    }\n",
              "</style>\n",
              "<table border=\"1\" class=\"dataframe\">\n",
              "  <thead>\n",
              "    <tr style=\"text-align: right;\">\n",
              "      <th></th>\n",
              "      <th>tanggal</th>\n",
              "      <th>pm10</th>\n",
              "      <th>pm25</th>\n",
              "      <th>so2</th>\n",
              "      <th>co</th>\n",
              "      <th>o3</th>\n",
              "      <th>no2</th>\n",
              "      <th>max</th>\n",
              "      <th>critical</th>\n",
              "      <th>categori</th>\n",
              "      <th>location</th>\n",
              "    </tr>\n",
              "  </thead>\n",
              "  <tbody>\n",
              "    <tr>\n",
              "      <th>0</th>\n",
              "      <td>2021-12-01</td>\n",
              "      <td>63</td>\n",
              "      <td>100</td>\n",
              "      <td>43</td>\n",
              "      <td>13</td>\n",
              "      <td>41</td>\n",
              "      <td>30</td>\n",
              "      <td>100</td>\n",
              "      <td>PM25</td>\n",
              "      <td>SEDANG</td>\n",
              "      <td>DKI4</td>\n",
              "    </tr>\n",
              "    <tr>\n",
              "      <th>1</th>\n",
              "      <td>2021-12-02</td>\n",
              "      <td>35</td>\n",
              "      <td>56</td>\n",
              "      <td>42</td>\n",
              "      <td>7</td>\n",
              "      <td>40</td>\n",
              "      <td>14</td>\n",
              "      <td>56</td>\n",
              "      <td>PM25</td>\n",
              "      <td>SEDANG</td>\n",
              "      <td>DKI4</td>\n",
              "    </tr>\n",
              "    <tr>\n",
              "      <th>2</th>\n",
              "      <td>2021-12-03</td>\n",
              "      <td>54</td>\n",
              "      <td>71</td>\n",
              "      <td>43</td>\n",
              "      <td>9</td>\n",
              "      <td>48</td>\n",
              "      <td>17</td>\n",
              "      <td>71</td>\n",
              "      <td>PM25</td>\n",
              "      <td>SEDANG</td>\n",
              "      <td>DKI4</td>\n",
              "    </tr>\n",
              "    <tr>\n",
              "      <th>3</th>\n",
              "      <td>2021-12-04</td>\n",
              "      <td>50</td>\n",
              "      <td>65</td>\n",
              "      <td>45</td>\n",
              "      <td>13</td>\n",
              "      <td>43</td>\n",
              "      <td>16</td>\n",
              "      <td>65</td>\n",
              "      <td>PM25</td>\n",
              "      <td>SEDANG</td>\n",
              "      <td>DKI3</td>\n",
              "    </tr>\n",
              "    <tr>\n",
              "      <th>4</th>\n",
              "      <td>2021-12-05</td>\n",
              "      <td>53</td>\n",
              "      <td>80</td>\n",
              "      <td>44</td>\n",
              "      <td>17</td>\n",
              "      <td>39</td>\n",
              "      <td>29</td>\n",
              "      <td>80</td>\n",
              "      <td>PM25</td>\n",
              "      <td>SEDANG</td>\n",
              "      <td>DKI4</td>\n",
              "    </tr>\n",
              "  </tbody>\n",
              "</table>\n",
              "</div>\n",
              "      <button class=\"colab-df-convert\" onclick=\"convertToInteractive('df-699ddd8f-2708-4dc3-91ee-95b358823796')\"\n",
              "              title=\"Convert this dataframe to an interactive table.\"\n",
              "              style=\"display:none;\">\n",
              "        \n",
              "  <svg xmlns=\"http://www.w3.org/2000/svg\" height=\"24px\"viewBox=\"0 0 24 24\"\n",
              "       width=\"24px\">\n",
              "    <path d=\"M0 0h24v24H0V0z\" fill=\"none\"/>\n",
              "    <path d=\"M18.56 5.44l.94 2.06.94-2.06 2.06-.94-2.06-.94-.94-2.06-.94 2.06-2.06.94zm-11 1L8.5 8.5l.94-2.06 2.06-.94-2.06-.94L8.5 2.5l-.94 2.06-2.06.94zm10 10l.94 2.06.94-2.06 2.06-.94-2.06-.94-.94-2.06-.94 2.06-2.06.94z\"/><path d=\"M17.41 7.96l-1.37-1.37c-.4-.4-.92-.59-1.43-.59-.52 0-1.04.2-1.43.59L10.3 9.45l-7.72 7.72c-.78.78-.78 2.05 0 2.83L4 21.41c.39.39.9.59 1.41.59.51 0 1.02-.2 1.41-.59l7.78-7.78 2.81-2.81c.8-.78.8-2.07 0-2.86zM5.41 20L4 18.59l7.72-7.72 1.47 1.35L5.41 20z\"/>\n",
              "  </svg>\n",
              "      </button>\n",
              "      \n",
              "  <style>\n",
              "    .colab-df-container {\n",
              "      display:flex;\n",
              "      flex-wrap:wrap;\n",
              "      gap: 12px;\n",
              "    }\n",
              "\n",
              "    .colab-df-convert {\n",
              "      background-color: #E8F0FE;\n",
              "      border: none;\n",
              "      border-radius: 50%;\n",
              "      cursor: pointer;\n",
              "      display: none;\n",
              "      fill: #1967D2;\n",
              "      height: 32px;\n",
              "      padding: 0 0 0 0;\n",
              "      width: 32px;\n",
              "    }\n",
              "\n",
              "    .colab-df-convert:hover {\n",
              "      background-color: #E2EBFA;\n",
              "      box-shadow: 0px 1px 2px rgba(60, 64, 67, 0.3), 0px 1px 3px 1px rgba(60, 64, 67, 0.15);\n",
              "      fill: #174EA6;\n",
              "    }\n",
              "\n",
              "    [theme=dark] .colab-df-convert {\n",
              "      background-color: #3B4455;\n",
              "      fill: #D2E3FC;\n",
              "    }\n",
              "\n",
              "    [theme=dark] .colab-df-convert:hover {\n",
              "      background-color: #434B5C;\n",
              "      box-shadow: 0px 1px 3px 1px rgba(0, 0, 0, 0.15);\n",
              "      filter: drop-shadow(0px 1px 2px rgba(0, 0, 0, 0.3));\n",
              "      fill: #FFFFFF;\n",
              "    }\n",
              "  </style>\n",
              "\n",
              "      <script>\n",
              "        const buttonEl =\n",
              "          document.querySelector('#df-699ddd8f-2708-4dc3-91ee-95b358823796 button.colab-df-convert');\n",
              "        buttonEl.style.display =\n",
              "          google.colab.kernel.accessAllowed ? 'block' : 'none';\n",
              "\n",
              "        async function convertToInteractive(key) {\n",
              "          const element = document.querySelector('#df-699ddd8f-2708-4dc3-91ee-95b358823796');\n",
              "          const dataTable =\n",
              "            await google.colab.kernel.invokeFunction('convertToInteractive',\n",
              "                                                     [key], {});\n",
              "          if (!dataTable) return;\n",
              "\n",
              "          const docLinkHtml = 'Like what you see? Visit the ' +\n",
              "            '<a target=\"_blank\" href=https://colab.research.google.com/notebooks/data_table.ipynb>data table notebook</a>'\n",
              "            + ' to learn more about interactive tables.';\n",
              "          element.innerHTML = '';\n",
              "          dataTable['output_type'] = 'display_data';\n",
              "          await google.colab.output.renderOutput(dataTable, element);\n",
              "          const docLink = document.createElement('div');\n",
              "          docLink.innerHTML = docLinkHtml;\n",
              "          element.appendChild(docLink);\n",
              "        }\n",
              "      </script>\n",
              "    </div>\n",
              "  </div>\n",
              "  "
            ]
          },
          "metadata": {},
          "execution_count": 133
        }
      ]
    },
    {
      "cell_type": "code",
      "source": [
        "data = pd.read_excel(\"dataset.xlsx\")\n",
        "data.head()"
      ],
      "metadata": {
        "colab": {
          "base_uri": "https://localhost:8080/",
          "height": 206
        },
        "id": "mZVrRmDKVHiz",
        "outputId": "0aaf7237-b07e-4437-8e37-5b5f4f81be7e"
      },
      "execution_count": null,
      "outputs": [
        {
          "output_type": "execute_result",
          "data": {
            "text/plain": [
              "   pm10      pm25       so2    co        o3       no2  categori\n",
              "0  0.33  0.298758  0.400000  0.16  0.223944  0.233333       0.5\n",
              "1  0.22  0.263975  0.377778  0.18  0.314085  0.153333       0.9\n",
              "2  0.39  0.323602  0.355556  0.18  0.274648  0.233333       0.5\n",
              "3  0.25  0.273913  0.344444  0.12  0.229577  0.153333       0.9\n",
              "4  0.33  0.298758  0.344444  0.16  0.223944  0.180000       0.5"
            ],
            "text/html": [
              "\n",
              "  <div id=\"df-e62bd707-ee68-435e-b7c2-3876c2ba63ff\">\n",
              "    <div class=\"colab-df-container\">\n",
              "      <div>\n",
              "<style scoped>\n",
              "    .dataframe tbody tr th:only-of-type {\n",
              "        vertical-align: middle;\n",
              "    }\n",
              "\n",
              "    .dataframe tbody tr th {\n",
              "        vertical-align: top;\n",
              "    }\n",
              "\n",
              "    .dataframe thead th {\n",
              "        text-align: right;\n",
              "    }\n",
              "</style>\n",
              "<table border=\"1\" class=\"dataframe\">\n",
              "  <thead>\n",
              "    <tr style=\"text-align: right;\">\n",
              "      <th></th>\n",
              "      <th>pm10</th>\n",
              "      <th>pm25</th>\n",
              "      <th>so2</th>\n",
              "      <th>co</th>\n",
              "      <th>o3</th>\n",
              "      <th>no2</th>\n",
              "      <th>categori</th>\n",
              "    </tr>\n",
              "  </thead>\n",
              "  <tbody>\n",
              "    <tr>\n",
              "      <th>0</th>\n",
              "      <td>0.33</td>\n",
              "      <td>0.298758</td>\n",
              "      <td>0.400000</td>\n",
              "      <td>0.16</td>\n",
              "      <td>0.223944</td>\n",
              "      <td>0.233333</td>\n",
              "      <td>0.5</td>\n",
              "    </tr>\n",
              "    <tr>\n",
              "      <th>1</th>\n",
              "      <td>0.22</td>\n",
              "      <td>0.263975</td>\n",
              "      <td>0.377778</td>\n",
              "      <td>0.18</td>\n",
              "      <td>0.314085</td>\n",
              "      <td>0.153333</td>\n",
              "      <td>0.9</td>\n",
              "    </tr>\n",
              "    <tr>\n",
              "      <th>2</th>\n",
              "      <td>0.39</td>\n",
              "      <td>0.323602</td>\n",
              "      <td>0.355556</td>\n",
              "      <td>0.18</td>\n",
              "      <td>0.274648</td>\n",
              "      <td>0.233333</td>\n",
              "      <td>0.5</td>\n",
              "    </tr>\n",
              "    <tr>\n",
              "      <th>3</th>\n",
              "      <td>0.25</td>\n",
              "      <td>0.273913</td>\n",
              "      <td>0.344444</td>\n",
              "      <td>0.12</td>\n",
              "      <td>0.229577</td>\n",
              "      <td>0.153333</td>\n",
              "      <td>0.9</td>\n",
              "    </tr>\n",
              "    <tr>\n",
              "      <th>4</th>\n",
              "      <td>0.33</td>\n",
              "      <td>0.298758</td>\n",
              "      <td>0.344444</td>\n",
              "      <td>0.16</td>\n",
              "      <td>0.223944</td>\n",
              "      <td>0.180000</td>\n",
              "      <td>0.5</td>\n",
              "    </tr>\n",
              "  </tbody>\n",
              "</table>\n",
              "</div>\n",
              "      <button class=\"colab-df-convert\" onclick=\"convertToInteractive('df-e62bd707-ee68-435e-b7c2-3876c2ba63ff')\"\n",
              "              title=\"Convert this dataframe to an interactive table.\"\n",
              "              style=\"display:none;\">\n",
              "        \n",
              "  <svg xmlns=\"http://www.w3.org/2000/svg\" height=\"24px\"viewBox=\"0 0 24 24\"\n",
              "       width=\"24px\">\n",
              "    <path d=\"M0 0h24v24H0V0z\" fill=\"none\"/>\n",
              "    <path d=\"M18.56 5.44l.94 2.06.94-2.06 2.06-.94-2.06-.94-.94-2.06-.94 2.06-2.06.94zm-11 1L8.5 8.5l.94-2.06 2.06-.94-2.06-.94L8.5 2.5l-.94 2.06-2.06.94zm10 10l.94 2.06.94-2.06 2.06-.94-2.06-.94-.94-2.06-.94 2.06-2.06.94z\"/><path d=\"M17.41 7.96l-1.37-1.37c-.4-.4-.92-.59-1.43-.59-.52 0-1.04.2-1.43.59L10.3 9.45l-7.72 7.72c-.78.78-.78 2.05 0 2.83L4 21.41c.39.39.9.59 1.41.59.51 0 1.02-.2 1.41-.59l7.78-7.78 2.81-2.81c.8-.78.8-2.07 0-2.86zM5.41 20L4 18.59l7.72-7.72 1.47 1.35L5.41 20z\"/>\n",
              "  </svg>\n",
              "      </button>\n",
              "      \n",
              "  <style>\n",
              "    .colab-df-container {\n",
              "      display:flex;\n",
              "      flex-wrap:wrap;\n",
              "      gap: 12px;\n",
              "    }\n",
              "\n",
              "    .colab-df-convert {\n",
              "      background-color: #E8F0FE;\n",
              "      border: none;\n",
              "      border-radius: 50%;\n",
              "      cursor: pointer;\n",
              "      display: none;\n",
              "      fill: #1967D2;\n",
              "      height: 32px;\n",
              "      padding: 0 0 0 0;\n",
              "      width: 32px;\n",
              "    }\n",
              "\n",
              "    .colab-df-convert:hover {\n",
              "      background-color: #E2EBFA;\n",
              "      box-shadow: 0px 1px 2px rgba(60, 64, 67, 0.3), 0px 1px 3px 1px rgba(60, 64, 67, 0.15);\n",
              "      fill: #174EA6;\n",
              "    }\n",
              "\n",
              "    [theme=dark] .colab-df-convert {\n",
              "      background-color: #3B4455;\n",
              "      fill: #D2E3FC;\n",
              "    }\n",
              "\n",
              "    [theme=dark] .colab-df-convert:hover {\n",
              "      background-color: #434B5C;\n",
              "      box-shadow: 0px 1px 3px 1px rgba(0, 0, 0, 0.15);\n",
              "      filter: drop-shadow(0px 1px 2px rgba(0, 0, 0, 0.3));\n",
              "      fill: #FFFFFF;\n",
              "    }\n",
              "  </style>\n",
              "\n",
              "      <script>\n",
              "        const buttonEl =\n",
              "          document.querySelector('#df-e62bd707-ee68-435e-b7c2-3876c2ba63ff button.colab-df-convert');\n",
              "        buttonEl.style.display =\n",
              "          google.colab.kernel.accessAllowed ? 'block' : 'none';\n",
              "\n",
              "        async function convertToInteractive(key) {\n",
              "          const element = document.querySelector('#df-e62bd707-ee68-435e-b7c2-3876c2ba63ff');\n",
              "          const dataTable =\n",
              "            await google.colab.kernel.invokeFunction('convertToInteractive',\n",
              "                                                     [key], {});\n",
              "          if (!dataTable) return;\n",
              "\n",
              "          const docLinkHtml = 'Like what you see? Visit the ' +\n",
              "            '<a target=\"_blank\" href=https://colab.research.google.com/notebooks/data_table.ipynb>data table notebook</a>'\n",
              "            + ' to learn more about interactive tables.';\n",
              "          element.innerHTML = '';\n",
              "          dataTable['output_type'] = 'display_data';\n",
              "          await google.colab.output.renderOutput(dataTable, element);\n",
              "          const docLink = document.createElement('div');\n",
              "          docLink.innerHTML = docLinkHtml;\n",
              "          element.appendChild(docLink);\n",
              "        }\n",
              "      </script>\n",
              "    </div>\n",
              "  </div>\n",
              "  "
            ]
          },
          "metadata": {},
          "execution_count": 6
        }
      ]
    },
    {
      "cell_type": "markdown",
      "source": [
        "Preprocessing Data"
      ],
      "metadata": {
        "id": "kG4idfzOTlzc"
      }
    },
    {
      "cell_type": "code",
      "source": [
        "#Data Selection\n",
        "data = pd.DataFrame(data[['pm10', 'pm25', 'so2', 'co', 'o3', 'no2', 'categori']])\n",
        "data.head()"
      ],
      "metadata": {
        "colab": {
          "base_uri": "https://localhost:8080/",
          "height": 206
        },
        "id": "s0X5UGzcElLt",
        "outputId": "a4ef0a23-c997-4148-c807-96c6958b7aff"
      },
      "execution_count": null,
      "outputs": [
        {
          "output_type": "execute_result",
          "data": {
            "text/plain": [
              "   pm10      pm25       so2    co        o3       no2  categori\n",
              "0  0.33  0.298758  0.400000  0.16  0.223944  0.233333       0.5\n",
              "1  0.22  0.263975  0.377778  0.18  0.314085  0.153333       0.9\n",
              "2  0.39  0.323602  0.355556  0.18  0.274648  0.233333       0.5\n",
              "3  0.25  0.273913  0.344444  0.12  0.229577  0.153333       0.9\n",
              "4  0.33  0.298758  0.344444  0.16  0.223944  0.180000       0.5"
            ],
            "text/html": [
              "\n",
              "  <div id=\"df-452e3678-18e3-4bba-bb0b-bca7fd33828a\">\n",
              "    <div class=\"colab-df-container\">\n",
              "      <div>\n",
              "<style scoped>\n",
              "    .dataframe tbody tr th:only-of-type {\n",
              "        vertical-align: middle;\n",
              "    }\n",
              "\n",
              "    .dataframe tbody tr th {\n",
              "        vertical-align: top;\n",
              "    }\n",
              "\n",
              "    .dataframe thead th {\n",
              "        text-align: right;\n",
              "    }\n",
              "</style>\n",
              "<table border=\"1\" class=\"dataframe\">\n",
              "  <thead>\n",
              "    <tr style=\"text-align: right;\">\n",
              "      <th></th>\n",
              "      <th>pm10</th>\n",
              "      <th>pm25</th>\n",
              "      <th>so2</th>\n",
              "      <th>co</th>\n",
              "      <th>o3</th>\n",
              "      <th>no2</th>\n",
              "      <th>categori</th>\n",
              "    </tr>\n",
              "  </thead>\n",
              "  <tbody>\n",
              "    <tr>\n",
              "      <th>0</th>\n",
              "      <td>0.33</td>\n",
              "      <td>0.298758</td>\n",
              "      <td>0.400000</td>\n",
              "      <td>0.16</td>\n",
              "      <td>0.223944</td>\n",
              "      <td>0.233333</td>\n",
              "      <td>0.5</td>\n",
              "    </tr>\n",
              "    <tr>\n",
              "      <th>1</th>\n",
              "      <td>0.22</td>\n",
              "      <td>0.263975</td>\n",
              "      <td>0.377778</td>\n",
              "      <td>0.18</td>\n",
              "      <td>0.314085</td>\n",
              "      <td>0.153333</td>\n",
              "      <td>0.9</td>\n",
              "    </tr>\n",
              "    <tr>\n",
              "      <th>2</th>\n",
              "      <td>0.39</td>\n",
              "      <td>0.323602</td>\n",
              "      <td>0.355556</td>\n",
              "      <td>0.18</td>\n",
              "      <td>0.274648</td>\n",
              "      <td>0.233333</td>\n",
              "      <td>0.5</td>\n",
              "    </tr>\n",
              "    <tr>\n",
              "      <th>3</th>\n",
              "      <td>0.25</td>\n",
              "      <td>0.273913</td>\n",
              "      <td>0.344444</td>\n",
              "      <td>0.12</td>\n",
              "      <td>0.229577</td>\n",
              "      <td>0.153333</td>\n",
              "      <td>0.9</td>\n",
              "    </tr>\n",
              "    <tr>\n",
              "      <th>4</th>\n",
              "      <td>0.33</td>\n",
              "      <td>0.298758</td>\n",
              "      <td>0.344444</td>\n",
              "      <td>0.16</td>\n",
              "      <td>0.223944</td>\n",
              "      <td>0.180000</td>\n",
              "      <td>0.5</td>\n",
              "    </tr>\n",
              "  </tbody>\n",
              "</table>\n",
              "</div>\n",
              "      <button class=\"colab-df-convert\" onclick=\"convertToInteractive('df-452e3678-18e3-4bba-bb0b-bca7fd33828a')\"\n",
              "              title=\"Convert this dataframe to an interactive table.\"\n",
              "              style=\"display:none;\">\n",
              "        \n",
              "  <svg xmlns=\"http://www.w3.org/2000/svg\" height=\"24px\"viewBox=\"0 0 24 24\"\n",
              "       width=\"24px\">\n",
              "    <path d=\"M0 0h24v24H0V0z\" fill=\"none\"/>\n",
              "    <path d=\"M18.56 5.44l.94 2.06.94-2.06 2.06-.94-2.06-.94-.94-2.06-.94 2.06-2.06.94zm-11 1L8.5 8.5l.94-2.06 2.06-.94-2.06-.94L8.5 2.5l-.94 2.06-2.06.94zm10 10l.94 2.06.94-2.06 2.06-.94-2.06-.94-.94-2.06-.94 2.06-2.06.94z\"/><path d=\"M17.41 7.96l-1.37-1.37c-.4-.4-.92-.59-1.43-.59-.52 0-1.04.2-1.43.59L10.3 9.45l-7.72 7.72c-.78.78-.78 2.05 0 2.83L4 21.41c.39.39.9.59 1.41.59.51 0 1.02-.2 1.41-.59l7.78-7.78 2.81-2.81c.8-.78.8-2.07 0-2.86zM5.41 20L4 18.59l7.72-7.72 1.47 1.35L5.41 20z\"/>\n",
              "  </svg>\n",
              "      </button>\n",
              "      \n",
              "  <style>\n",
              "    .colab-df-container {\n",
              "      display:flex;\n",
              "      flex-wrap:wrap;\n",
              "      gap: 12px;\n",
              "    }\n",
              "\n",
              "    .colab-df-convert {\n",
              "      background-color: #E8F0FE;\n",
              "      border: none;\n",
              "      border-radius: 50%;\n",
              "      cursor: pointer;\n",
              "      display: none;\n",
              "      fill: #1967D2;\n",
              "      height: 32px;\n",
              "      padding: 0 0 0 0;\n",
              "      width: 32px;\n",
              "    }\n",
              "\n",
              "    .colab-df-convert:hover {\n",
              "      background-color: #E2EBFA;\n",
              "      box-shadow: 0px 1px 2px rgba(60, 64, 67, 0.3), 0px 1px 3px 1px rgba(60, 64, 67, 0.15);\n",
              "      fill: #174EA6;\n",
              "    }\n",
              "\n",
              "    [theme=dark] .colab-df-convert {\n",
              "      background-color: #3B4455;\n",
              "      fill: #D2E3FC;\n",
              "    }\n",
              "\n",
              "    [theme=dark] .colab-df-convert:hover {\n",
              "      background-color: #434B5C;\n",
              "      box-shadow: 0px 1px 3px 1px rgba(0, 0, 0, 0.15);\n",
              "      filter: drop-shadow(0px 1px 2px rgba(0, 0, 0, 0.3));\n",
              "      fill: #FFFFFF;\n",
              "    }\n",
              "  </style>\n",
              "\n",
              "      <script>\n",
              "        const buttonEl =\n",
              "          document.querySelector('#df-452e3678-18e3-4bba-bb0b-bca7fd33828a button.colab-df-convert');\n",
              "        buttonEl.style.display =\n",
              "          google.colab.kernel.accessAllowed ? 'block' : 'none';\n",
              "\n",
              "        async function convertToInteractive(key) {\n",
              "          const element = document.querySelector('#df-452e3678-18e3-4bba-bb0b-bca7fd33828a');\n",
              "          const dataTable =\n",
              "            await google.colab.kernel.invokeFunction('convertToInteractive',\n",
              "                                                     [key], {});\n",
              "          if (!dataTable) return;\n",
              "\n",
              "          const docLinkHtml = 'Like what you see? Visit the ' +\n",
              "            '<a target=\"_blank\" href=https://colab.research.google.com/notebooks/data_table.ipynb>data table notebook</a>'\n",
              "            + ' to learn more about interactive tables.';\n",
              "          element.innerHTML = '';\n",
              "          dataTable['output_type'] = 'display_data';\n",
              "          await google.colab.output.renderOutput(dataTable, element);\n",
              "          const docLink = document.createElement('div');\n",
              "          docLink.innerHTML = docLinkHtml;\n",
              "          element.appendChild(docLink);\n",
              "        }\n",
              "      </script>\n",
              "    </div>\n",
              "  </div>\n",
              "  "
            ]
          },
          "metadata": {},
          "execution_count": 8
        }
      ]
    },
    {
      "cell_type": "code",
      "source": [
        "#Data Cleaning\n",
        "data.dropna()\n",
        "data.isna().sum()\n",
        "data.info()"
      ],
      "metadata": {
        "colab": {
          "base_uri": "https://localhost:8080/"
        },
        "id": "x9BJo5fYDJPY",
        "outputId": "c334a219-030f-46b2-d249-6ce2983dc3d0"
      },
      "execution_count": null,
      "outputs": [
        {
          "output_type": "stream",
          "name": "stdout",
          "text": [
            "<class 'pandas.core.frame.DataFrame'>\n",
            "RangeIndex: 1517 entries, 0 to 1516\n",
            "Data columns (total 7 columns):\n",
            " #   Column    Non-Null Count  Dtype  \n",
            "---  ------    --------------  -----  \n",
            " 0   pm10      1517 non-null   float64\n",
            " 1   pm25      1517 non-null   float64\n",
            " 2   so2       1517 non-null   float64\n",
            " 3   co        1517 non-null   float64\n",
            " 4   o3        1517 non-null   float64\n",
            " 5   no2       1517 non-null   float64\n",
            " 6   categori  1517 non-null   float64\n",
            "dtypes: float64(7)\n",
            "memory usage: 83.1 KB\n"
          ]
        }
      ]
    },
    {
      "cell_type": "code",
      "source": [
        "#Data Transformation (Min-Max Scaler)\n",
        "mc = MinMaxScaler()\n",
        "data = mc.fit_transform(data)\n",
        "\n",
        "data"
      ],
      "metadata": {
        "colab": {
          "base_uri": "https://localhost:8080/"
        },
        "id": "iBEoTLJbU7MW",
        "outputId": "8bac6087-0c8c-461f-b187-c722ad86d256"
      },
      "execution_count": null,
      "outputs": [
        {
          "output_type": "execute_result",
          "data": {
            "text/plain": [
              "array([[0.1402439 , 0.2484472 , 0.3375    , ..., 0.16083916, 0.16129032,\n",
              "        0.5       ],\n",
              "       [0.07317073, 0.20496894, 0.3125    , ..., 0.27272727, 0.06451613,\n",
              "        1.        ],\n",
              "       [0.17682927, 0.27950311, 0.2875    , ..., 0.22377622, 0.16129032,\n",
              "        0.5       ],\n",
              "       ...,\n",
              "       [0.11585366, 0.25465839, 0.325     , ..., 0.11888112, 0.41935484,\n",
              "        0.5       ],\n",
              "       [0.23170732, 0.38509317, 0.2875    , ..., 0.1048951 , 0.66129032,\n",
              "        0.5       ],\n",
              "       [0.27439024, 0.45962733, 0.325     , ..., 0.15384615, 0.80645161,\n",
              "        0.5       ]])"
            ]
          },
          "metadata": {},
          "execution_count": 9
        }
      ]
    },
    {
      "cell_type": "code",
      "source": [
        "#Data Transformation\n",
        "data = pd.DataFrame(data)\n",
        "data.columns = ['pm10', 'pm25', 'so2', 'co', 'o3', 'no2', 'categori']\n",
        "data"
      ],
      "metadata": {
        "colab": {
          "base_uri": "https://localhost:8080/",
          "height": 424
        },
        "id": "MvxSQQSgVi9N",
        "outputId": "2e7cf56f-23b3-45b0-cc2f-7ab96b7ac269"
      },
      "execution_count": null,
      "outputs": [
        {
          "output_type": "execute_result",
          "data": {
            "text/plain": [
              "          pm10      pm25     so2        co        o3       no2  categori\n",
              "0     0.140244  0.248447  0.3375  0.097561  0.160839  0.161290       0.5\n",
              "1     0.073171  0.204969  0.3125  0.121951  0.272727  0.064516       1.0\n",
              "2     0.176829  0.279503  0.2875  0.121951  0.223776  0.161290       0.5\n",
              "3     0.091463  0.217391  0.2750  0.048780  0.167832  0.064516       1.0\n",
              "4     0.140244  0.248447  0.2750  0.097561  0.160839  0.096774       0.5\n",
              "...        ...       ...     ...       ...       ...       ...       ...\n",
              "1512  0.237805  0.391304  0.4250  0.292683  0.090909  0.709677       0.5\n",
              "1513  0.176829  0.341615  0.2250  0.219512  0.090909  0.483871       0.5\n",
              "1514  0.115854  0.254658  0.3250  0.146341  0.118881  0.419355       0.5\n",
              "1515  0.231707  0.385093  0.2875  0.317073  0.104895  0.661290       0.5\n",
              "1516  0.274390  0.459627  0.3250  0.414634  0.153846  0.806452       0.5\n",
              "\n",
              "[1517 rows x 7 columns]"
            ],
            "text/html": [
              "\n",
              "  <div id=\"df-6bddc03e-bd64-415d-972e-9501a85527d2\">\n",
              "    <div class=\"colab-df-container\">\n",
              "      <div>\n",
              "<style scoped>\n",
              "    .dataframe tbody tr th:only-of-type {\n",
              "        vertical-align: middle;\n",
              "    }\n",
              "\n",
              "    .dataframe tbody tr th {\n",
              "        vertical-align: top;\n",
              "    }\n",
              "\n",
              "    .dataframe thead th {\n",
              "        text-align: right;\n",
              "    }\n",
              "</style>\n",
              "<table border=\"1\" class=\"dataframe\">\n",
              "  <thead>\n",
              "    <tr style=\"text-align: right;\">\n",
              "      <th></th>\n",
              "      <th>pm10</th>\n",
              "      <th>pm25</th>\n",
              "      <th>so2</th>\n",
              "      <th>co</th>\n",
              "      <th>o3</th>\n",
              "      <th>no2</th>\n",
              "      <th>categori</th>\n",
              "    </tr>\n",
              "  </thead>\n",
              "  <tbody>\n",
              "    <tr>\n",
              "      <th>0</th>\n",
              "      <td>0.140244</td>\n",
              "      <td>0.248447</td>\n",
              "      <td>0.3375</td>\n",
              "      <td>0.097561</td>\n",
              "      <td>0.160839</td>\n",
              "      <td>0.161290</td>\n",
              "      <td>0.5</td>\n",
              "    </tr>\n",
              "    <tr>\n",
              "      <th>1</th>\n",
              "      <td>0.073171</td>\n",
              "      <td>0.204969</td>\n",
              "      <td>0.3125</td>\n",
              "      <td>0.121951</td>\n",
              "      <td>0.272727</td>\n",
              "      <td>0.064516</td>\n",
              "      <td>1.0</td>\n",
              "    </tr>\n",
              "    <tr>\n",
              "      <th>2</th>\n",
              "      <td>0.176829</td>\n",
              "      <td>0.279503</td>\n",
              "      <td>0.2875</td>\n",
              "      <td>0.121951</td>\n",
              "      <td>0.223776</td>\n",
              "      <td>0.161290</td>\n",
              "      <td>0.5</td>\n",
              "    </tr>\n",
              "    <tr>\n",
              "      <th>3</th>\n",
              "      <td>0.091463</td>\n",
              "      <td>0.217391</td>\n",
              "      <td>0.2750</td>\n",
              "      <td>0.048780</td>\n",
              "      <td>0.167832</td>\n",
              "      <td>0.064516</td>\n",
              "      <td>1.0</td>\n",
              "    </tr>\n",
              "    <tr>\n",
              "      <th>4</th>\n",
              "      <td>0.140244</td>\n",
              "      <td>0.248447</td>\n",
              "      <td>0.2750</td>\n",
              "      <td>0.097561</td>\n",
              "      <td>0.160839</td>\n",
              "      <td>0.096774</td>\n",
              "      <td>0.5</td>\n",
              "    </tr>\n",
              "    <tr>\n",
              "      <th>...</th>\n",
              "      <td>...</td>\n",
              "      <td>...</td>\n",
              "      <td>...</td>\n",
              "      <td>...</td>\n",
              "      <td>...</td>\n",
              "      <td>...</td>\n",
              "      <td>...</td>\n",
              "    </tr>\n",
              "    <tr>\n",
              "      <th>1512</th>\n",
              "      <td>0.237805</td>\n",
              "      <td>0.391304</td>\n",
              "      <td>0.4250</td>\n",
              "      <td>0.292683</td>\n",
              "      <td>0.090909</td>\n",
              "      <td>0.709677</td>\n",
              "      <td>0.5</td>\n",
              "    </tr>\n",
              "    <tr>\n",
              "      <th>1513</th>\n",
              "      <td>0.176829</td>\n",
              "      <td>0.341615</td>\n",
              "      <td>0.2250</td>\n",
              "      <td>0.219512</td>\n",
              "      <td>0.090909</td>\n",
              "      <td>0.483871</td>\n",
              "      <td>0.5</td>\n",
              "    </tr>\n",
              "    <tr>\n",
              "      <th>1514</th>\n",
              "      <td>0.115854</td>\n",
              "      <td>0.254658</td>\n",
              "      <td>0.3250</td>\n",
              "      <td>0.146341</td>\n",
              "      <td>0.118881</td>\n",
              "      <td>0.419355</td>\n",
              "      <td>0.5</td>\n",
              "    </tr>\n",
              "    <tr>\n",
              "      <th>1515</th>\n",
              "      <td>0.231707</td>\n",
              "      <td>0.385093</td>\n",
              "      <td>0.2875</td>\n",
              "      <td>0.317073</td>\n",
              "      <td>0.104895</td>\n",
              "      <td>0.661290</td>\n",
              "      <td>0.5</td>\n",
              "    </tr>\n",
              "    <tr>\n",
              "      <th>1516</th>\n",
              "      <td>0.274390</td>\n",
              "      <td>0.459627</td>\n",
              "      <td>0.3250</td>\n",
              "      <td>0.414634</td>\n",
              "      <td>0.153846</td>\n",
              "      <td>0.806452</td>\n",
              "      <td>0.5</td>\n",
              "    </tr>\n",
              "  </tbody>\n",
              "</table>\n",
              "<p>1517 rows × 7 columns</p>\n",
              "</div>\n",
              "      <button class=\"colab-df-convert\" onclick=\"convertToInteractive('df-6bddc03e-bd64-415d-972e-9501a85527d2')\"\n",
              "              title=\"Convert this dataframe to an interactive table.\"\n",
              "              style=\"display:none;\">\n",
              "        \n",
              "  <svg xmlns=\"http://www.w3.org/2000/svg\" height=\"24px\"viewBox=\"0 0 24 24\"\n",
              "       width=\"24px\">\n",
              "    <path d=\"M0 0h24v24H0V0z\" fill=\"none\"/>\n",
              "    <path d=\"M18.56 5.44l.94 2.06.94-2.06 2.06-.94-2.06-.94-.94-2.06-.94 2.06-2.06.94zm-11 1L8.5 8.5l.94-2.06 2.06-.94-2.06-.94L8.5 2.5l-.94 2.06-2.06.94zm10 10l.94 2.06.94-2.06 2.06-.94-2.06-.94-.94-2.06-.94 2.06-2.06.94z\"/><path d=\"M17.41 7.96l-1.37-1.37c-.4-.4-.92-.59-1.43-.59-.52 0-1.04.2-1.43.59L10.3 9.45l-7.72 7.72c-.78.78-.78 2.05 0 2.83L4 21.41c.39.39.9.59 1.41.59.51 0 1.02-.2 1.41-.59l7.78-7.78 2.81-2.81c.8-.78.8-2.07 0-2.86zM5.41 20L4 18.59l7.72-7.72 1.47 1.35L5.41 20z\"/>\n",
              "  </svg>\n",
              "      </button>\n",
              "      \n",
              "  <style>\n",
              "    .colab-df-container {\n",
              "      display:flex;\n",
              "      flex-wrap:wrap;\n",
              "      gap: 12px;\n",
              "    }\n",
              "\n",
              "    .colab-df-convert {\n",
              "      background-color: #E8F0FE;\n",
              "      border: none;\n",
              "      border-radius: 50%;\n",
              "      cursor: pointer;\n",
              "      display: none;\n",
              "      fill: #1967D2;\n",
              "      height: 32px;\n",
              "      padding: 0 0 0 0;\n",
              "      width: 32px;\n",
              "    }\n",
              "\n",
              "    .colab-df-convert:hover {\n",
              "      background-color: #E2EBFA;\n",
              "      box-shadow: 0px 1px 2px rgba(60, 64, 67, 0.3), 0px 1px 3px 1px rgba(60, 64, 67, 0.15);\n",
              "      fill: #174EA6;\n",
              "    }\n",
              "\n",
              "    [theme=dark] .colab-df-convert {\n",
              "      background-color: #3B4455;\n",
              "      fill: #D2E3FC;\n",
              "    }\n",
              "\n",
              "    [theme=dark] .colab-df-convert:hover {\n",
              "      background-color: #434B5C;\n",
              "      box-shadow: 0px 1px 3px 1px rgba(0, 0, 0, 0.15);\n",
              "      filter: drop-shadow(0px 1px 2px rgba(0, 0, 0, 0.3));\n",
              "      fill: #FFFFFF;\n",
              "    }\n",
              "  </style>\n",
              "\n",
              "      <script>\n",
              "        const buttonEl =\n",
              "          document.querySelector('#df-6bddc03e-bd64-415d-972e-9501a85527d2 button.colab-df-convert');\n",
              "        buttonEl.style.display =\n",
              "          google.colab.kernel.accessAllowed ? 'block' : 'none';\n",
              "\n",
              "        async function convertToInteractive(key) {\n",
              "          const element = document.querySelector('#df-6bddc03e-bd64-415d-972e-9501a85527d2');\n",
              "          const dataTable =\n",
              "            await google.colab.kernel.invokeFunction('convertToInteractive',\n",
              "                                                     [key], {});\n",
              "          if (!dataTable) return;\n",
              "\n",
              "          const docLinkHtml = 'Like what you see? Visit the ' +\n",
              "            '<a target=\"_blank\" href=https://colab.research.google.com/notebooks/data_table.ipynb>data table notebook</a>'\n",
              "            + ' to learn more about interactive tables.';\n",
              "          element.innerHTML = '';\n",
              "          dataTable['output_type'] = 'display_data';\n",
              "          await google.colab.output.renderOutput(dataTable, element);\n",
              "          const docLink = document.createElement('div');\n",
              "          docLink.innerHTML = docLinkHtml;\n",
              "          element.appendChild(docLink);\n",
              "        }\n",
              "      </script>\n",
              "    </div>\n",
              "  </div>\n",
              "  "
            ]
          },
          "metadata": {},
          "execution_count": 11
        }
      ]
    },
    {
      "cell_type": "code",
      "source": [
        "#Data Transformation (Label Encoder)\n",
        "le = LabelEncoder()\n",
        "data['categori'] = le.fit_transform(data['categori'])\n",
        "\n",
        "data"
      ],
      "metadata": {
        "colab": {
          "base_uri": "https://localhost:8080/",
          "height": 424
        },
        "id": "RQ7T6SJuXCcr",
        "outputId": "0be2025c-bd02-427d-db02-290472562e13"
      },
      "execution_count": null,
      "outputs": [
        {
          "output_type": "execute_result",
          "data": {
            "text/plain": [
              "          pm10      pm25     so2        co        o3       no2  categori\n",
              "0     0.140244  0.248447  0.3375  0.097561  0.160839  0.161290         1\n",
              "1     0.073171  0.204969  0.3125  0.121951  0.272727  0.064516         2\n",
              "2     0.176829  0.279503  0.2875  0.121951  0.223776  0.161290         1\n",
              "3     0.091463  0.217391  0.2750  0.048780  0.167832  0.064516         2\n",
              "4     0.140244  0.248447  0.2750  0.097561  0.160839  0.096774         1\n",
              "...        ...       ...     ...       ...       ...       ...       ...\n",
              "1512  0.237805  0.391304  0.4250  0.292683  0.090909  0.709677         1\n",
              "1513  0.176829  0.341615  0.2250  0.219512  0.090909  0.483871         1\n",
              "1514  0.115854  0.254658  0.3250  0.146341  0.118881  0.419355         1\n",
              "1515  0.231707  0.385093  0.2875  0.317073  0.104895  0.661290         1\n",
              "1516  0.274390  0.459627  0.3250  0.414634  0.153846  0.806452         1\n",
              "\n",
              "[1517 rows x 7 columns]"
            ],
            "text/html": [
              "\n",
              "  <div id=\"df-aa90943b-223e-4a57-8ca4-04dc1ea0fd6c\">\n",
              "    <div class=\"colab-df-container\">\n",
              "      <div>\n",
              "<style scoped>\n",
              "    .dataframe tbody tr th:only-of-type {\n",
              "        vertical-align: middle;\n",
              "    }\n",
              "\n",
              "    .dataframe tbody tr th {\n",
              "        vertical-align: top;\n",
              "    }\n",
              "\n",
              "    .dataframe thead th {\n",
              "        text-align: right;\n",
              "    }\n",
              "</style>\n",
              "<table border=\"1\" class=\"dataframe\">\n",
              "  <thead>\n",
              "    <tr style=\"text-align: right;\">\n",
              "      <th></th>\n",
              "      <th>pm10</th>\n",
              "      <th>pm25</th>\n",
              "      <th>so2</th>\n",
              "      <th>co</th>\n",
              "      <th>o3</th>\n",
              "      <th>no2</th>\n",
              "      <th>categori</th>\n",
              "    </tr>\n",
              "  </thead>\n",
              "  <tbody>\n",
              "    <tr>\n",
              "      <th>0</th>\n",
              "      <td>0.140244</td>\n",
              "      <td>0.248447</td>\n",
              "      <td>0.3375</td>\n",
              "      <td>0.097561</td>\n",
              "      <td>0.160839</td>\n",
              "      <td>0.161290</td>\n",
              "      <td>1</td>\n",
              "    </tr>\n",
              "    <tr>\n",
              "      <th>1</th>\n",
              "      <td>0.073171</td>\n",
              "      <td>0.204969</td>\n",
              "      <td>0.3125</td>\n",
              "      <td>0.121951</td>\n",
              "      <td>0.272727</td>\n",
              "      <td>0.064516</td>\n",
              "      <td>2</td>\n",
              "    </tr>\n",
              "    <tr>\n",
              "      <th>2</th>\n",
              "      <td>0.176829</td>\n",
              "      <td>0.279503</td>\n",
              "      <td>0.2875</td>\n",
              "      <td>0.121951</td>\n",
              "      <td>0.223776</td>\n",
              "      <td>0.161290</td>\n",
              "      <td>1</td>\n",
              "    </tr>\n",
              "    <tr>\n",
              "      <th>3</th>\n",
              "      <td>0.091463</td>\n",
              "      <td>0.217391</td>\n",
              "      <td>0.2750</td>\n",
              "      <td>0.048780</td>\n",
              "      <td>0.167832</td>\n",
              "      <td>0.064516</td>\n",
              "      <td>2</td>\n",
              "    </tr>\n",
              "    <tr>\n",
              "      <th>4</th>\n",
              "      <td>0.140244</td>\n",
              "      <td>0.248447</td>\n",
              "      <td>0.2750</td>\n",
              "      <td>0.097561</td>\n",
              "      <td>0.160839</td>\n",
              "      <td>0.096774</td>\n",
              "      <td>1</td>\n",
              "    </tr>\n",
              "    <tr>\n",
              "      <th>...</th>\n",
              "      <td>...</td>\n",
              "      <td>...</td>\n",
              "      <td>...</td>\n",
              "      <td>...</td>\n",
              "      <td>...</td>\n",
              "      <td>...</td>\n",
              "      <td>...</td>\n",
              "    </tr>\n",
              "    <tr>\n",
              "      <th>1512</th>\n",
              "      <td>0.237805</td>\n",
              "      <td>0.391304</td>\n",
              "      <td>0.4250</td>\n",
              "      <td>0.292683</td>\n",
              "      <td>0.090909</td>\n",
              "      <td>0.709677</td>\n",
              "      <td>1</td>\n",
              "    </tr>\n",
              "    <tr>\n",
              "      <th>1513</th>\n",
              "      <td>0.176829</td>\n",
              "      <td>0.341615</td>\n",
              "      <td>0.2250</td>\n",
              "      <td>0.219512</td>\n",
              "      <td>0.090909</td>\n",
              "      <td>0.483871</td>\n",
              "      <td>1</td>\n",
              "    </tr>\n",
              "    <tr>\n",
              "      <th>1514</th>\n",
              "      <td>0.115854</td>\n",
              "      <td>0.254658</td>\n",
              "      <td>0.3250</td>\n",
              "      <td>0.146341</td>\n",
              "      <td>0.118881</td>\n",
              "      <td>0.419355</td>\n",
              "      <td>1</td>\n",
              "    </tr>\n",
              "    <tr>\n",
              "      <th>1515</th>\n",
              "      <td>0.231707</td>\n",
              "      <td>0.385093</td>\n",
              "      <td>0.2875</td>\n",
              "      <td>0.317073</td>\n",
              "      <td>0.104895</td>\n",
              "      <td>0.661290</td>\n",
              "      <td>1</td>\n",
              "    </tr>\n",
              "    <tr>\n",
              "      <th>1516</th>\n",
              "      <td>0.274390</td>\n",
              "      <td>0.459627</td>\n",
              "      <td>0.3250</td>\n",
              "      <td>0.414634</td>\n",
              "      <td>0.153846</td>\n",
              "      <td>0.806452</td>\n",
              "      <td>1</td>\n",
              "    </tr>\n",
              "  </tbody>\n",
              "</table>\n",
              "<p>1517 rows × 7 columns</p>\n",
              "</div>\n",
              "      <button class=\"colab-df-convert\" onclick=\"convertToInteractive('df-aa90943b-223e-4a57-8ca4-04dc1ea0fd6c')\"\n",
              "              title=\"Convert this dataframe to an interactive table.\"\n",
              "              style=\"display:none;\">\n",
              "        \n",
              "  <svg xmlns=\"http://www.w3.org/2000/svg\" height=\"24px\"viewBox=\"0 0 24 24\"\n",
              "       width=\"24px\">\n",
              "    <path d=\"M0 0h24v24H0V0z\" fill=\"none\"/>\n",
              "    <path d=\"M18.56 5.44l.94 2.06.94-2.06 2.06-.94-2.06-.94-.94-2.06-.94 2.06-2.06.94zm-11 1L8.5 8.5l.94-2.06 2.06-.94-2.06-.94L8.5 2.5l-.94 2.06-2.06.94zm10 10l.94 2.06.94-2.06 2.06-.94-2.06-.94-.94-2.06-.94 2.06-2.06.94z\"/><path d=\"M17.41 7.96l-1.37-1.37c-.4-.4-.92-.59-1.43-.59-.52 0-1.04.2-1.43.59L10.3 9.45l-7.72 7.72c-.78.78-.78 2.05 0 2.83L4 21.41c.39.39.9.59 1.41.59.51 0 1.02-.2 1.41-.59l7.78-7.78 2.81-2.81c.8-.78.8-2.07 0-2.86zM5.41 20L4 18.59l7.72-7.72 1.47 1.35L5.41 20z\"/>\n",
              "  </svg>\n",
              "      </button>\n",
              "      \n",
              "  <style>\n",
              "    .colab-df-container {\n",
              "      display:flex;\n",
              "      flex-wrap:wrap;\n",
              "      gap: 12px;\n",
              "    }\n",
              "\n",
              "    .colab-df-convert {\n",
              "      background-color: #E8F0FE;\n",
              "      border: none;\n",
              "      border-radius: 50%;\n",
              "      cursor: pointer;\n",
              "      display: none;\n",
              "      fill: #1967D2;\n",
              "      height: 32px;\n",
              "      padding: 0 0 0 0;\n",
              "      width: 32px;\n",
              "    }\n",
              "\n",
              "    .colab-df-convert:hover {\n",
              "      background-color: #E2EBFA;\n",
              "      box-shadow: 0px 1px 2px rgba(60, 64, 67, 0.3), 0px 1px 3px 1px rgba(60, 64, 67, 0.15);\n",
              "      fill: #174EA6;\n",
              "    }\n",
              "\n",
              "    [theme=dark] .colab-df-convert {\n",
              "      background-color: #3B4455;\n",
              "      fill: #D2E3FC;\n",
              "    }\n",
              "\n",
              "    [theme=dark] .colab-df-convert:hover {\n",
              "      background-color: #434B5C;\n",
              "      box-shadow: 0px 1px 3px 1px rgba(0, 0, 0, 0.15);\n",
              "      filter: drop-shadow(0px 1px 2px rgba(0, 0, 0, 0.3));\n",
              "      fill: #FFFFFF;\n",
              "    }\n",
              "  </style>\n",
              "\n",
              "      <script>\n",
              "        const buttonEl =\n",
              "          document.querySelector('#df-aa90943b-223e-4a57-8ca4-04dc1ea0fd6c button.colab-df-convert');\n",
              "        buttonEl.style.display =\n",
              "          google.colab.kernel.accessAllowed ? 'block' : 'none';\n",
              "\n",
              "        async function convertToInteractive(key) {\n",
              "          const element = document.querySelector('#df-aa90943b-223e-4a57-8ca4-04dc1ea0fd6c');\n",
              "          const dataTable =\n",
              "            await google.colab.kernel.invokeFunction('convertToInteractive',\n",
              "                                                     [key], {});\n",
              "          if (!dataTable) return;\n",
              "\n",
              "          const docLinkHtml = 'Like what you see? Visit the ' +\n",
              "            '<a target=\"_blank\" href=https://colab.research.google.com/notebooks/data_table.ipynb>data table notebook</a>'\n",
              "            + ' to learn more about interactive tables.';\n",
              "          element.innerHTML = '';\n",
              "          dataTable['output_type'] = 'display_data';\n",
              "          await google.colab.output.renderOutput(dataTable, element);\n",
              "          const docLink = document.createElement('div');\n",
              "          docLink.innerHTML = docLinkHtml;\n",
              "          element.appendChild(docLink);\n",
              "        }\n",
              "      </script>\n",
              "    </div>\n",
              "  </div>\n",
              "  "
            ]
          },
          "metadata": {},
          "execution_count": 12
        }
      ]
    },
    {
      "cell_type": "code",
      "source": [
        "class_names = ['Tidak Sehat', 'Sedang', 'Sehat']"
      ],
      "metadata": {
        "id": "JQa2Nz_Mpmum"
      },
      "execution_count": null,
      "outputs": []
    },
    {
      "cell_type": "code",
      "source": [
        "data.to_csv('dataset.csv')"
      ],
      "metadata": {
        "id": "P4x4G5u6CE_r"
      },
      "execution_count": null,
      "outputs": []
    },
    {
      "cell_type": "markdown",
      "source": [
        "Split Data (Data Training dan Data Testing)"
      ],
      "metadata": {
        "id": "Bb66sMWgFiFV"
      }
    },
    {
      "cell_type": "code",
      "source": [
        "#Membagi input dan output\n",
        "x = data.iloc[:,0:6].values\n",
        "y = data.iloc[:,-1].values"
      ],
      "metadata": {
        "id": "3xP3F1rDDbIA"
      },
      "execution_count": null,
      "outputs": []
    },
    {
      "cell_type": "code",
      "source": [
        "x[0]"
      ],
      "metadata": {
        "colab": {
          "base_uri": "https://localhost:8080/"
        },
        "id": "B7lVXyP6EhcY",
        "outputId": "3dd3feaa-6e28-498c-de8b-2dff66be25ff"
      },
      "execution_count": null,
      "outputs": [
        {
          "output_type": "execute_result",
          "data": {
            "text/plain": [
              "array([0.1402439 , 0.2484472 , 0.3375    , 0.09756098, 0.16083916,\n",
              "       0.16129032])"
            ]
          },
          "metadata": {},
          "execution_count": 8
        }
      ]
    },
    {
      "cell_type": "code",
      "source": [
        "y[0]"
      ],
      "metadata": {
        "colab": {
          "base_uri": "https://localhost:8080/"
        },
        "id": "B0u0dbpEEkyT",
        "outputId": "a55d7f95-85dc-4251-b883-510b5c42ec98"
      },
      "execution_count": null,
      "outputs": [
        {
          "output_type": "execute_result",
          "data": {
            "text/plain": [
              "1"
            ]
          },
          "metadata": {},
          "execution_count": 9
        }
      ]
    },
    {
      "cell_type": "code",
      "source": [
        "#Split Data (Data Training dan Data Testing)\n",
        "xtrain, xtest, ytrain, ytest = train_test_split(x,y, test_size=0.2, random_state=42)"
      ],
      "metadata": {
        "id": "3i7_j9KWFHsq"
      },
      "execution_count": null,
      "outputs": []
    },
    {
      "cell_type": "code",
      "source": [
        "xtrain.shape, xtest.shape, ytrain.shape, ytest.shape "
      ],
      "metadata": {
        "colab": {
          "base_uri": "https://localhost:8080/"
        },
        "id": "imCHvyHXj4zb",
        "outputId": "5cb9c639-f68e-4e08-a4e2-136f14515f35"
      },
      "execution_count": null,
      "outputs": [
        {
          "output_type": "execute_result",
          "data": {
            "text/plain": [
              "((1213, 6), (304, 6), (1213,), (304,))"
            ]
          },
          "metadata": {},
          "execution_count": 11
        }
      ]
    },
    {
      "cell_type": "code",
      "source": [
        "xtrain[0]"
      ],
      "metadata": {
        "colab": {
          "base_uri": "https://localhost:8080/"
        },
        "id": "V_ScO-49kNvh",
        "outputId": "f9848301-3af4-4a20-ccb1-e03a284c4070"
      },
      "execution_count": null,
      "outputs": [
        {
          "output_type": "execute_result",
          "data": {
            "text/plain": [
              "array([0.23170732, 0.47826087, 0.45      , 0.14634146, 0.09090909,\n",
              "       0.25806452])"
            ]
          },
          "metadata": {},
          "execution_count": 12
        }
      ]
    },
    {
      "cell_type": "code",
      "source": [
        "ytrain[0]"
      ],
      "metadata": {
        "colab": {
          "base_uri": "https://localhost:8080/"
        },
        "id": "A7HH5oPBkRUh",
        "outputId": "e806d45c-c71d-465b-d4bc-82cd725e49b6"
      },
      "execution_count": null,
      "outputs": [
        {
          "output_type": "execute_result",
          "data": {
            "text/plain": [
              "1"
            ]
          },
          "metadata": {},
          "execution_count": 13
        }
      ]
    },
    {
      "cell_type": "markdown",
      "source": [
        "Membangun Model BackPropagation "
      ],
      "metadata": {
        "id": "wER3w6TV1eIG"
      }
    },
    {
      "cell_type": "code",
      "source": [
        "#Model Backpropagation\n",
        "modal = tf.keras.models.Sequential() #Membuat model arsitektur\n",
        "\n",
        "modal.add(tf.keras.layers.Dense(units=6, activation='relu')) #Input\n",
        "modal.add(tf.keras.layers.Dense(units=30, activation='relu')) #Hidden Layer\n",
        "modal.add(tf.keras.layers.Dense(units=3, activation='softmax')) #Output\n",
        "\n",
        "modal.compile(optimizer='adam', loss='sparse_categorical_crossentropy', metrics=['accuracy'])\n",
        "\n",
        "hist = modal.fit(xtrain,ytrain, epochs=100, batch_size=128, validation_data=(xtest,ytest)) "
      ],
      "metadata": {
        "colab": {
          "base_uri": "https://localhost:8080/"
        },
        "id": "-geIJ6BtpNFN",
        "outputId": "2fad909e-a1ee-4270-ce6b-b5893bcd5756"
      },
      "execution_count": null,
      "outputs": [
        {
          "output_type": "stream",
          "name": "stdout",
          "text": [
            "Epoch 1/100\n",
            "10/10 [==============================] - 1s 24ms/step - loss: 1.1586 - accuracy: 0.1616 - val_loss: 1.1281 - val_accuracy: 0.1678\n",
            "Epoch 2/100\n",
            "10/10 [==============================] - 0s 4ms/step - loss: 1.1055 - accuracy: 0.1863 - val_loss: 1.0790 - val_accuracy: 0.2664\n",
            "Epoch 3/100\n",
            "10/10 [==============================] - 0s 7ms/step - loss: 1.0604 - accuracy: 0.4839 - val_loss: 1.0360 - val_accuracy: 0.6776\n",
            "Epoch 4/100\n",
            "10/10 [==============================] - 0s 6ms/step - loss: 1.0209 - accuracy: 0.7172 - val_loss: 0.9964 - val_accuracy: 0.7533\n",
            "Epoch 5/100\n",
            "10/10 [==============================] - 0s 6ms/step - loss: 0.9832 - accuracy: 0.7552 - val_loss: 0.9546 - val_accuracy: 0.7664\n",
            "Epoch 6/100\n",
            "10/10 [==============================] - 0s 4ms/step - loss: 0.9423 - accuracy: 0.7535 - val_loss: 0.9098 - val_accuracy: 0.7664\n",
            "Epoch 7/100\n",
            "10/10 [==============================] - 0s 5ms/step - loss: 0.8982 - accuracy: 0.7535 - val_loss: 0.8635 - val_accuracy: 0.7664\n",
            "Epoch 8/100\n",
            "10/10 [==============================] - 0s 5ms/step - loss: 0.8542 - accuracy: 0.7535 - val_loss: 0.8168 - val_accuracy: 0.7664\n",
            "Epoch 9/100\n",
            "10/10 [==============================] - 0s 4ms/step - loss: 0.8125 - accuracy: 0.7535 - val_loss: 0.7721 - val_accuracy: 0.7664\n",
            "Epoch 10/100\n",
            "10/10 [==============================] - 0s 5ms/step - loss: 0.7734 - accuracy: 0.7535 - val_loss: 0.7352 - val_accuracy: 0.7664\n",
            "Epoch 11/100\n",
            "10/10 [==============================] - 0s 7ms/step - loss: 0.7429 - accuracy: 0.7535 - val_loss: 0.7080 - val_accuracy: 0.7664\n",
            "Epoch 12/100\n",
            "10/10 [==============================] - 0s 6ms/step - loss: 0.7228 - accuracy: 0.7535 - val_loss: 0.6906 - val_accuracy: 0.7664\n",
            "Epoch 13/100\n",
            "10/10 [==============================] - 0s 7ms/step - loss: 0.7120 - accuracy: 0.7535 - val_loss: 0.6808 - val_accuracy: 0.7664\n",
            "Epoch 14/100\n",
            "10/10 [==============================] - 0s 5ms/step - loss: 0.7062 - accuracy: 0.7535 - val_loss: 0.6758 - val_accuracy: 0.7664\n",
            "Epoch 15/100\n",
            "10/10 [==============================] - 0s 5ms/step - loss: 0.7034 - accuracy: 0.7535 - val_loss: 0.6728 - val_accuracy: 0.7664\n",
            "Epoch 16/100\n",
            "10/10 [==============================] - 0s 5ms/step - loss: 0.7017 - accuracy: 0.7535 - val_loss: 0.6705 - val_accuracy: 0.7664\n",
            "Epoch 17/100\n",
            "10/10 [==============================] - 0s 5ms/step - loss: 0.6997 - accuracy: 0.7535 - val_loss: 0.6687 - val_accuracy: 0.7664\n",
            "Epoch 18/100\n",
            "10/10 [==============================] - 0s 5ms/step - loss: 0.6979 - accuracy: 0.7535 - val_loss: 0.6669 - val_accuracy: 0.7664\n",
            "Epoch 19/100\n",
            "10/10 [==============================] - 0s 5ms/step - loss: 0.6957 - accuracy: 0.7535 - val_loss: 0.6650 - val_accuracy: 0.7664\n",
            "Epoch 20/100\n",
            "10/10 [==============================] - 0s 5ms/step - loss: 0.6935 - accuracy: 0.7535 - val_loss: 0.6628 - val_accuracy: 0.7664\n",
            "Epoch 21/100\n",
            "10/10 [==============================] - 0s 6ms/step - loss: 0.6907 - accuracy: 0.7535 - val_loss: 0.6599 - val_accuracy: 0.7664\n",
            "Epoch 22/100\n",
            "10/10 [==============================] - 0s 5ms/step - loss: 0.6876 - accuracy: 0.7535 - val_loss: 0.6564 - val_accuracy: 0.7664\n",
            "Epoch 23/100\n",
            "10/10 [==============================] - 0s 7ms/step - loss: 0.6837 - accuracy: 0.7535 - val_loss: 0.6527 - val_accuracy: 0.7664\n",
            "Epoch 24/100\n",
            "10/10 [==============================] - 0s 5ms/step - loss: 0.6796 - accuracy: 0.7535 - val_loss: 0.6487 - val_accuracy: 0.7664\n",
            "Epoch 25/100\n",
            "10/10 [==============================] - 0s 5ms/step - loss: 0.6752 - accuracy: 0.7535 - val_loss: 0.6446 - val_accuracy: 0.7664\n",
            "Epoch 26/100\n",
            "10/10 [==============================] - 0s 6ms/step - loss: 0.6708 - accuracy: 0.7535 - val_loss: 0.6400 - val_accuracy: 0.7664\n",
            "Epoch 27/100\n",
            "10/10 [==============================] - 0s 7ms/step - loss: 0.6659 - accuracy: 0.7535 - val_loss: 0.6354 - val_accuracy: 0.7664\n",
            "Epoch 28/100\n",
            "10/10 [==============================] - 0s 7ms/step - loss: 0.6606 - accuracy: 0.7535 - val_loss: 0.6310 - val_accuracy: 0.7664\n",
            "Epoch 29/100\n",
            "10/10 [==============================] - 0s 7ms/step - loss: 0.6551 - accuracy: 0.7535 - val_loss: 0.6259 - val_accuracy: 0.7664\n",
            "Epoch 30/100\n",
            "10/10 [==============================] - 0s 5ms/step - loss: 0.6490 - accuracy: 0.7560 - val_loss: 0.6201 - val_accuracy: 0.7664\n",
            "Epoch 31/100\n",
            "10/10 [==============================] - 0s 6ms/step - loss: 0.6428 - accuracy: 0.7560 - val_loss: 0.6139 - val_accuracy: 0.7664\n",
            "Epoch 32/100\n",
            "10/10 [==============================] - 0s 5ms/step - loss: 0.6360 - accuracy: 0.7560 - val_loss: 0.6074 - val_accuracy: 0.7664\n",
            "Epoch 33/100\n",
            "10/10 [==============================] - 0s 7ms/step - loss: 0.6293 - accuracy: 0.7568 - val_loss: 0.6009 - val_accuracy: 0.7664\n",
            "Epoch 34/100\n",
            "10/10 [==============================] - 0s 5ms/step - loss: 0.6223 - accuracy: 0.7576 - val_loss: 0.5945 - val_accuracy: 0.7664\n",
            "Epoch 35/100\n",
            "10/10 [==============================] - 0s 6ms/step - loss: 0.6149 - accuracy: 0.7576 - val_loss: 0.5875 - val_accuracy: 0.7664\n",
            "Epoch 36/100\n",
            "10/10 [==============================] - 0s 5ms/step - loss: 0.6073 - accuracy: 0.7585 - val_loss: 0.5799 - val_accuracy: 0.7664\n",
            "Epoch 37/100\n",
            "10/10 [==============================] - 0s 6ms/step - loss: 0.5995 - accuracy: 0.7585 - val_loss: 0.5720 - val_accuracy: 0.7664\n",
            "Epoch 38/100\n",
            "10/10 [==============================] - 0s 5ms/step - loss: 0.5918 - accuracy: 0.7626 - val_loss: 0.5641 - val_accuracy: 0.7664\n",
            "Epoch 39/100\n",
            "10/10 [==============================] - 0s 5ms/step - loss: 0.5834 - accuracy: 0.7626 - val_loss: 0.5558 - val_accuracy: 0.7664\n",
            "Epoch 40/100\n",
            "10/10 [==============================] - 0s 7ms/step - loss: 0.5746 - accuracy: 0.7667 - val_loss: 0.5476 - val_accuracy: 0.7763\n",
            "Epoch 41/100\n",
            "10/10 [==============================] - 0s 5ms/step - loss: 0.5659 - accuracy: 0.7683 - val_loss: 0.5394 - val_accuracy: 0.7829\n",
            "Epoch 42/100\n",
            "10/10 [==============================] - 0s 7ms/step - loss: 0.5571 - accuracy: 0.7716 - val_loss: 0.5308 - val_accuracy: 0.7895\n",
            "Epoch 43/100\n",
            "10/10 [==============================] - 0s 5ms/step - loss: 0.5481 - accuracy: 0.7766 - val_loss: 0.5221 - val_accuracy: 0.7961\n",
            "Epoch 44/100\n",
            "10/10 [==============================] - 0s 4ms/step - loss: 0.5391 - accuracy: 0.7832 - val_loss: 0.5132 - val_accuracy: 0.8059\n",
            "Epoch 45/100\n",
            "10/10 [==============================] - 0s 5ms/step - loss: 0.5301 - accuracy: 0.7840 - val_loss: 0.5042 - val_accuracy: 0.8092\n",
            "Epoch 46/100\n",
            "10/10 [==============================] - 0s 6ms/step - loss: 0.5204 - accuracy: 0.7857 - val_loss: 0.4949 - val_accuracy: 0.8092\n",
            "Epoch 47/100\n",
            "10/10 [==============================] - 0s 5ms/step - loss: 0.5113 - accuracy: 0.7914 - val_loss: 0.4855 - val_accuracy: 0.8125\n",
            "Epoch 48/100\n",
            "10/10 [==============================] - 0s 5ms/step - loss: 0.5027 - accuracy: 0.7914 - val_loss: 0.4764 - val_accuracy: 0.8125\n",
            "Epoch 49/100\n",
            "10/10 [==============================] - 0s 5ms/step - loss: 0.4930 - accuracy: 0.8005 - val_loss: 0.4677 - val_accuracy: 0.8191\n",
            "Epoch 50/100\n",
            "10/10 [==============================] - 0s 5ms/step - loss: 0.4841 - accuracy: 0.8038 - val_loss: 0.4591 - val_accuracy: 0.8158\n",
            "Epoch 51/100\n",
            "10/10 [==============================] - 0s 4ms/step - loss: 0.4755 - accuracy: 0.8096 - val_loss: 0.4502 - val_accuracy: 0.8224\n",
            "Epoch 52/100\n",
            "10/10 [==============================] - 0s 5ms/step - loss: 0.4667 - accuracy: 0.8104 - val_loss: 0.4415 - val_accuracy: 0.8257\n",
            "Epoch 53/100\n",
            "10/10 [==============================] - 0s 7ms/step - loss: 0.4577 - accuracy: 0.8244 - val_loss: 0.4330 - val_accuracy: 0.8355\n",
            "Epoch 54/100\n",
            "10/10 [==============================] - 0s 6ms/step - loss: 0.4495 - accuracy: 0.8244 - val_loss: 0.4246 - val_accuracy: 0.8322\n",
            "Epoch 55/100\n",
            "10/10 [==============================] - 0s 4ms/step - loss: 0.4406 - accuracy: 0.8293 - val_loss: 0.4171 - val_accuracy: 0.8421\n",
            "Epoch 56/100\n",
            "10/10 [==============================] - 0s 6ms/step - loss: 0.4326 - accuracy: 0.8293 - val_loss: 0.4085 - val_accuracy: 0.8355\n",
            "Epoch 57/100\n",
            "10/10 [==============================] - 0s 5ms/step - loss: 0.4243 - accuracy: 0.8351 - val_loss: 0.4010 - val_accuracy: 0.8454\n",
            "Epoch 58/100\n",
            "10/10 [==============================] - 0s 5ms/step - loss: 0.4174 - accuracy: 0.8417 - val_loss: 0.3935 - val_accuracy: 0.8421\n",
            "Epoch 59/100\n",
            "10/10 [==============================] - 0s 5ms/step - loss: 0.4104 - accuracy: 0.8351 - val_loss: 0.3867 - val_accuracy: 0.8355\n",
            "Epoch 60/100\n",
            "10/10 [==============================] - 0s 7ms/step - loss: 0.4028 - accuracy: 0.8458 - val_loss: 0.3796 - val_accuracy: 0.8651\n",
            "Epoch 61/100\n",
            "10/10 [==============================] - 0s 7ms/step - loss: 0.3962 - accuracy: 0.8483 - val_loss: 0.3724 - val_accuracy: 0.8520\n",
            "Epoch 62/100\n",
            "10/10 [==============================] - 0s 5ms/step - loss: 0.3897 - accuracy: 0.8467 - val_loss: 0.3660 - val_accuracy: 0.8553\n",
            "Epoch 63/100\n",
            "10/10 [==============================] - 0s 5ms/step - loss: 0.3833 - accuracy: 0.8516 - val_loss: 0.3596 - val_accuracy: 0.8618\n",
            "Epoch 64/100\n",
            "10/10 [==============================] - 0s 5ms/step - loss: 0.3770 - accuracy: 0.8500 - val_loss: 0.3533 - val_accuracy: 0.8586\n",
            "Epoch 65/100\n",
            "10/10 [==============================] - 0s 6ms/step - loss: 0.3701 - accuracy: 0.8508 - val_loss: 0.3468 - val_accuracy: 0.8684\n",
            "Epoch 66/100\n",
            "10/10 [==============================] - 0s 5ms/step - loss: 0.3642 - accuracy: 0.8590 - val_loss: 0.3408 - val_accuracy: 0.8684\n",
            "Epoch 67/100\n",
            "10/10 [==============================] - 0s 5ms/step - loss: 0.3574 - accuracy: 0.8516 - val_loss: 0.3343 - val_accuracy: 0.8750\n",
            "Epoch 68/100\n",
            "10/10 [==============================] - 0s 5ms/step - loss: 0.3512 - accuracy: 0.8574 - val_loss: 0.3273 - val_accuracy: 0.8816\n",
            "Epoch 69/100\n",
            "10/10 [==============================] - 0s 5ms/step - loss: 0.3437 - accuracy: 0.8590 - val_loss: 0.3196 - val_accuracy: 0.8816\n",
            "Epoch 70/100\n",
            "10/10 [==============================] - 0s 5ms/step - loss: 0.3362 - accuracy: 0.8590 - val_loss: 0.3107 - val_accuracy: 0.8914\n",
            "Epoch 71/100\n",
            "10/10 [==============================] - 0s 6ms/step - loss: 0.3276 - accuracy: 0.8673 - val_loss: 0.3007 - val_accuracy: 0.8914\n",
            "Epoch 72/100\n",
            "10/10 [==============================] - 0s 5ms/step - loss: 0.3191 - accuracy: 0.8664 - val_loss: 0.2932 - val_accuracy: 0.8882\n",
            "Epoch 73/100\n",
            "10/10 [==============================] - 0s 5ms/step - loss: 0.3111 - accuracy: 0.8673 - val_loss: 0.2855 - val_accuracy: 0.8882\n",
            "Epoch 74/100\n",
            "10/10 [==============================] - 0s 5ms/step - loss: 0.3035 - accuracy: 0.8739 - val_loss: 0.2766 - val_accuracy: 0.8914\n",
            "Epoch 75/100\n",
            "10/10 [==============================] - 0s 7ms/step - loss: 0.2980 - accuracy: 0.8541 - val_loss: 0.2706 - val_accuracy: 0.8914\n",
            "Epoch 76/100\n",
            "10/10 [==============================] - 0s 6ms/step - loss: 0.2895 - accuracy: 0.8780 - val_loss: 0.2642 - val_accuracy: 0.8947\n",
            "Epoch 77/100\n",
            "10/10 [==============================] - 0s 5ms/step - loss: 0.2807 - accuracy: 0.8796 - val_loss: 0.2572 - val_accuracy: 0.9112\n",
            "Epoch 78/100\n",
            "10/10 [==============================] - 0s 6ms/step - loss: 0.2747 - accuracy: 0.8829 - val_loss: 0.2501 - val_accuracy: 0.9046\n",
            "Epoch 79/100\n",
            "10/10 [==============================] - 0s 7ms/step - loss: 0.2684 - accuracy: 0.8846 - val_loss: 0.2458 - val_accuracy: 0.9178\n",
            "Epoch 80/100\n",
            "10/10 [==============================] - 0s 5ms/step - loss: 0.2620 - accuracy: 0.8953 - val_loss: 0.2402 - val_accuracy: 0.9145\n",
            "Epoch 81/100\n",
            "10/10 [==============================] - 0s 6ms/step - loss: 0.2575 - accuracy: 0.8928 - val_loss: 0.2359 - val_accuracy: 0.9276\n",
            "Epoch 82/100\n",
            "10/10 [==============================] - 0s 5ms/step - loss: 0.2498 - accuracy: 0.9027 - val_loss: 0.2296 - val_accuracy: 0.9276\n",
            "Epoch 83/100\n",
            "10/10 [==============================] - 0s 5ms/step - loss: 0.2465 - accuracy: 0.9035 - val_loss: 0.2234 - val_accuracy: 0.9309\n",
            "Epoch 84/100\n",
            "10/10 [==============================] - 0s 7ms/step - loss: 0.2398 - accuracy: 0.9077 - val_loss: 0.2190 - val_accuracy: 0.9309\n",
            "Epoch 85/100\n",
            "10/10 [==============================] - 0s 5ms/step - loss: 0.2355 - accuracy: 0.9134 - val_loss: 0.2164 - val_accuracy: 0.9276\n",
            "Epoch 86/100\n",
            "10/10 [==============================] - 0s 5ms/step - loss: 0.2312 - accuracy: 0.9143 - val_loss: 0.2117 - val_accuracy: 0.9309\n",
            "Epoch 87/100\n",
            "10/10 [==============================] - 0s 7ms/step - loss: 0.2272 - accuracy: 0.9118 - val_loss: 0.2066 - val_accuracy: 0.9309\n",
            "Epoch 88/100\n",
            "10/10 [==============================] - 0s 5ms/step - loss: 0.2231 - accuracy: 0.9126 - val_loss: 0.2039 - val_accuracy: 0.9309\n",
            "Epoch 89/100\n",
            "10/10 [==============================] - 0s 5ms/step - loss: 0.2197 - accuracy: 0.9159 - val_loss: 0.2010 - val_accuracy: 0.9375\n",
            "Epoch 90/100\n",
            "10/10 [==============================] - 0s 5ms/step - loss: 0.2177 - accuracy: 0.9209 - val_loss: 0.1968 - val_accuracy: 0.9375\n",
            "Epoch 91/100\n",
            "10/10 [==============================] - 0s 5ms/step - loss: 0.2154 - accuracy: 0.9143 - val_loss: 0.1951 - val_accuracy: 0.9375\n",
            "Epoch 92/100\n",
            "10/10 [==============================] - 0s 5ms/step - loss: 0.2115 - accuracy: 0.9192 - val_loss: 0.1900 - val_accuracy: 0.9309\n",
            "Epoch 93/100\n",
            "10/10 [==============================] - 0s 5ms/step - loss: 0.2071 - accuracy: 0.9209 - val_loss: 0.1895 - val_accuracy: 0.9408\n",
            "Epoch 94/100\n",
            "10/10 [==============================] - 0s 5ms/step - loss: 0.2042 - accuracy: 0.9266 - val_loss: 0.1863 - val_accuracy: 0.9507\n",
            "Epoch 95/100\n",
            "10/10 [==============================] - 0s 5ms/step - loss: 0.2015 - accuracy: 0.9283 - val_loss: 0.1830 - val_accuracy: 0.9474\n",
            "Epoch 96/100\n",
            "10/10 [==============================] - 0s 5ms/step - loss: 0.1990 - accuracy: 0.9275 - val_loss: 0.1795 - val_accuracy: 0.9474\n",
            "Epoch 97/100\n",
            "10/10 [==============================] - 0s 5ms/step - loss: 0.1967 - accuracy: 0.9291 - val_loss: 0.1788 - val_accuracy: 0.9507\n",
            "Epoch 98/100\n",
            "10/10 [==============================] - 0s 5ms/step - loss: 0.1944 - accuracy: 0.9242 - val_loss: 0.1754 - val_accuracy: 0.9507\n",
            "Epoch 99/100\n",
            "10/10 [==============================] - 0s 5ms/step - loss: 0.1920 - accuracy: 0.9266 - val_loss: 0.1728 - val_accuracy: 0.9507\n",
            "Epoch 100/100\n",
            "10/10 [==============================] - 0s 5ms/step - loss: 0.1905 - accuracy: 0.9324 - val_loss: 0.1722 - val_accuracy: 0.9507\n"
          ]
        }
      ]
    },
    {
      "cell_type": "markdown",
      "source": [
        "Pengujian / Evaluasi Model"
      ],
      "metadata": {
        "id": "XcSJEuyScAgu"
      }
    },
    {
      "cell_type": "code",
      "source": [
        "pd.DataFrame(hist.history).plot(title=\"Evaluasi Model\")"
      ],
      "metadata": {
        "colab": {
          "base_uri": "https://localhost:8080/",
          "height": 298
        },
        "id": "npQuuyJIoLEv",
        "outputId": "5b2dc610-bc80-44dc-9fff-2d6f5ab4b96a"
      },
      "execution_count": null,
      "outputs": [
        {
          "output_type": "execute_result",
          "data": {
            "text/plain": [
              "<matplotlib.axes._subplots.AxesSubplot at 0x7f954a6ee670>"
            ]
          },
          "metadata": {},
          "execution_count": 45
        },
        {
          "output_type": "display_data",
          "data": {
            "text/plain": [
              "<Figure size 432x288 with 1 Axes>"
            ],
            "image/png": "[encoded data removed]"
          },
          "metadata": {
            "needs_background": "light"
          }
        }
      ]
    },
    {
      "cell_type": "code",
      "source": [
        "plt.plot(hist.history['accuracy'], label='Accuracy')\n",
        "plt.plot(hist.history['val_accuracy'], label='val_Accuracy')\n",
        "plt.legend(loc='lower right')\n",
        "plt.title('Accuracy evolution')"
      ],
      "metadata": {
        "colab": {
          "base_uri": "https://localhost:8080/",
          "height": 298
        },
        "id": "sb4WBWq01Yi8",
        "outputId": "a319cbbe-f3db-42cc-e9ed-3069721c4b9a"
      },
      "execution_count": null,
      "outputs": [
        {
          "output_type": "execute_result",
          "data": {
            "text/plain": [
              "Text(0.5, 1.0, 'Accuracy evolution')"
            ]
          },
          "metadata": {},
          "execution_count": 46
        },
        {
          "output_type": "display_data",
          "data": {
            "text/plain": [
              "<Figure size 432x288 with 1 Axes>"
            ],
            "image/png": "[encoded data removed]"
          },
          "metadata": {
            "needs_background": "light"
          }
        }
      ]
    },
    {
      "cell_type": "code",
      "source": [
        "plt.plot(hist.history['loss'], label='Loss')\n",
        "plt.plot(hist.history['val_loss'], label='val_Loss')\n",
        "plt.legend()\n",
        "plt.title('Loss evolution')"
      ],
      "metadata": {
        "colab": {
          "base_uri": "https://localhost:8080/",
          "height": 298
        },
        "id": "zX9VT5Xv1NtZ",
        "outputId": "9693782e-fbbc-4258-85b7-a41e6ec0c6fe"
      },
      "execution_count": null,
      "outputs": [
        {
          "output_type": "execute_result",
          "data": {
            "text/plain": [
              "Text(0.5, 1.0, 'Loss evolution')"
            ]
          },
          "metadata": {},
          "execution_count": 47
        },
        {
          "output_type": "display_data",
          "data": {
            "text/plain": [
              "<Figure size 432x288 with 1 Axes>"
            ],
            "image/png": "[encoded data removed]"
          },
          "metadata": {
            "needs_background": "light"
          }
        }
      ]
    },
    {
      "cell_type": "code",
      "source": [
        "yprediksi = model.predict(xtest)"
      ],
      "metadata": {
        "colab": {
          "base_uri": "https://localhost:8080/"
        },
        "id": "nZs5OGjPJ4ZK",
        "outputId": "f40d72af-449d-4b50-927e-2324fbcba971"
      },
      "execution_count": null,
      "outputs": [
        {
          "output_type": "stream",
          "name": "stdout",
          "text": [
            "10/10 [==============================] - 0s 2ms/step\n"
          ]
        }
      ]
    },
    {
      "cell_type": "code",
      "source": [
        "yprediksi = yprediksi.argmax(axis=1)"
      ],
      "metadata": {
        "id": "tng_eDrNo7tQ"
      },
      "execution_count": null,
      "outputs": []
    },
    {
      "cell_type": "code",
      "source": [
        "print(\"Predict Outputs:\\n\", yprediksi, end='\\n\\n')\n",
        "print(\"Correct Outputs:\\n\", ytest, end='\\n\\n')"
      ],
      "metadata": {
        "colab": {
          "base_uri": "https://localhost:8080/"
        },
        "id": "8ztm_9uOpCs-",
        "outputId": "a3c333ba-1620-4fe3-a91b-b9e04fff8c7f"
      },
      "execution_count": null,
      "outputs": [
        {
          "output_type": "stream",
          "name": "stdout",
          "text": [
            "Predict Outputs:\n",
            " [0 1 0 1 1 1 1 1 1 2 1 1 0 1 1 1 1 1 1 1 1 1 1 1 1 0 1 1 1 1 1 1 1 1 2 1 1\n",
            " 1 1 0 0 1 1 1 0 1 0 1 1 1 1 1 1 1 1 0 1 1 1 1 1 1 0 1 1 1 0 1 1 0 0 0 1 1\n",
            " 1 1 0 1 0 1 1 0 1 1 1 1 1 0 1 1 1 1 1 2 1 1 2 1 1 0 1 2 1 1 1 1 1 1 1 1 1\n",
            " 1 1 1 0 1 1 1 1 1 1 2 1 1 1 1 2 1 1 1 0 1 1 1 0 1 1 1 2 1 2 1 1 1 1 1 1 0\n",
            " 1 1 1 1 0 0 0 1 1 1 0 1 1 1 1 1 1 1 0 1 1 0 1 1 1 2 1 1 1 1 1 1 1 1 1 0 1\n",
            " 1 1 0 1 1 1 1 1 1 1 0 2 1 1 0 2 1 1 1 1 1 2 1 1 1 1 1 1 1 1 1 2 1 1 1 1 1\n",
            " 0 1 1 1 1 1 1 1 1 1 1 1 1 0 1 1 1 1 2 1 1 1 1 1 0 1 2 1 1 0 1 1 0 2 0 1 1\n",
            " 1 1 0 1 1 1 1 1 0 1 1 1 1 1 1 0 1 1 1 0 1 1 1 1 1 1 0 1 1 1 1 1 0 0 2 1 2\n",
            " 1 1 1 1 1 2 2 0]\n",
            "\n",
            "Correct Outputs:\n",
            " [0 1 0 1 1 1 1 1 1 2 1 1 0 1 1 2 1 1 1 1 1 1 1 1 1 0 1 1 1 1 1 1 1 1 2 1 1\n",
            " 1 1 0 0 1 1 1 0 1 0 1 1 1 1 1 1 1 1 0 1 1 1 1 1 1 0 1 1 1 0 1 1 0 0 0 1 1\n",
            " 1 1 0 1 0 1 1 0 1 1 1 1 1 0 1 1 1 1 1 1 0 1 2 1 1 0 1 2 1 1 1 1 0 1 1 0 1\n",
            " 1 1 1 0 1 1 1 1 1 1 1 1 1 1 1 2 1 1 1 0 2 1 1 0 1 1 1 2 1 2 1 1 1 1 1 1 0\n",
            " 1 1 1 1 0 0 0 1 1 1 0 1 1 1 1 1 1 1 0 1 1 0 1 1 1 2 1 1 1 1 1 1 1 1 1 0 1\n",
            " 1 1 0 1 1 1 1 1 1 1 0 2 1 1 0 2 1 1 1 1 1 2 1 1 1 1 1 1 1 1 1 2 1 1 1 0 1\n",
            " 0 1 1 1 1 1 1 1 1 1 1 1 1 0 1 1 1 1 2 1 1 1 1 1 0 1 2 1 1 1 1 1 0 2 0 1 1\n",
            " 1 1 0 1 1 1 1 1 0 1 1 1 1 1 1 0 1 1 1 0 1 1 1 1 1 1 0 1 1 1 1 1 0 0 2 1 2\n",
            " 1 1 1 1 1 2 2 0]\n",
            "\n"
          ]
        }
      ]
    },
    {
      "cell_type": "code",
      "source": [
        "#Pengujian (Confusion Matrix)\n",
        "def make_confusion_matrix(y_true, y_pred, classes=None, figsize=(10, 10), text_size=15): \n",
        "\n",
        "  # Create the confustion matrix\n",
        "  cm = confusion_matrix(y_true, y_pred)\n",
        "  cm_norm = cm.astype(\"float\") / cm.sum(axis=1)[:, np.newaxis] # normalize it\n",
        "  n_classes = cm.shape[0] # find the number of classes we're dealing with\n",
        "\n",
        "  # Plot the figure and make it pretty\n",
        "  fig, ax = plt.subplots(figsize=figsize)\n",
        "  cax = ax.matshow(cm, cmap=plt.cm.Blues) # colors will represent how 'correct' a class is, darker == better\n",
        "  fig.colorbar(cax)\n",
        "\n",
        "  # Are there a list of classes?\n",
        "  if classes:\n",
        "    labels = classes\n",
        "  else:\n",
        "    labels = np.arange(cm.shape[0])\n",
        "  \n",
        "  # Label the axes\n",
        "  ax.set(title=\"Confusion Matrix\",\n",
        "         xlabel=\"Predicted label\",\n",
        "         ylabel=\"True label\",\n",
        "         xticks=np.arange(n_classes), # create enough axis slots for each class\n",
        "         yticks=np.arange(n_classes), \n",
        "         xticklabels=labels, # axes will labeled with class names (if they exist) or ints\n",
        "         yticklabels=labels)\n",
        "  \n",
        "  # Make x-axis labels appear on bottom\n",
        "  ax.xaxis.set_label_position(\"bottom\")\n",
        "  ax.xaxis.tick_bottom()\n",
        "\n",
        "  # Set the threshold for different colors\n",
        "  threshold = (cm.max() + cm.min()) / 2.\n",
        "\n",
        "  # Plot the text on each cell\n",
        "  for i, j in itertools.product(range(cm.shape[0]), range(cm.shape[1])):\n",
        "    plt.text(j, i, f\"{cm[i, j]} ({cm_norm[i, j]*100:.1f}%)\",\n",
        "             horizontalalignment=\"center\",\n",
        "             color=\"white\" if cm[i, j] > threshold else \"black\",\n",
        "             size=text_size)"
      ],
      "metadata": {
        "id": "hyWJkxPjqev9"
      },
      "execution_count": null,
      "outputs": []
    },
    {
      "cell_type": "code",
      "source": [
        "#Pengujian (Confusion Matrix)\n",
        "confusion_matrix(y_true=ytest, y_pred=yprediksi)"
      ],
      "metadata": {
        "colab": {
          "base_uri": "https://localhost:8080/"
        },
        "id": "6DIj3rdPpRuK",
        "outputId": "67509cb5-d3eb-46f1-ce8f-dc81a985b245"
      },
      "execution_count": null,
      "outputs": [
        {
          "output_type": "execute_result",
          "data": {
            "text/plain": [
              "array([[ 46,   4,   0],\n",
              "       [  1, 230,   2],\n",
              "       [  0,   2,  19]])"
            ]
          },
          "metadata": {},
          "execution_count": 51
        }
      ]
    },
    {
      "cell_type": "code",
      "source": [
        "#Pengujian (Confusion Matrix)\n",
        "make_confusion_matrix(y_true=ytest, \n",
        "                      y_pred=yprediksi,\n",
        "                      classes=class_names,\n",
        "                      figsize=(10, 5),\n",
        "                      text_size=10)"
      ],
      "metadata": {
        "colab": {
          "base_uri": "https://localhost:8080/",
          "height": 363
        },
        "id": "kh3N1pCEp16x",
        "outputId": "2aa1da5a-41f6-4923-93d3-e166236abea4"
      },
      "execution_count": null,
      "outputs": [
        {
          "output_type": "display_data",
          "data": {
            "text/plain": [
              "<Figure size 720x360 with 2 Axes>"
            ],
            "image/png": "[encoded data removed]"
          },
          "metadata": {
            "needs_background": "light"
          }
        }
      ]
    },
    {
      "cell_type": "markdown",
      "source": [
        "### **Save and Load Your Model**"
      ],
      "metadata": {
        "id": "yp6e_KUMbPvy"
      }
    },
    {
      "cell_type": "code",
      "source": [
        "!pip install h5py"
      ],
      "metadata": {
        "colab": {
          "base_uri": "https://localhost:8080/"
        },
        "id": "XafSJvERbTbR",
        "outputId": "284dc6e9-5dfc-43d8-a177-c09714668d6d"
      },
      "execution_count": null,
      "outputs": [
        {
          "output_type": "stream",
          "name": "stdout",
          "text": [
            "Looking in indexes: https://pypi.org/simple, https://us-python.pkg.dev/colab-wheels/public/simple/\n",
            "Requirement already satisfied: h5py in /usr/local/lib/python3.8/dist-packages (3.1.0)\n",
            "Requirement already satisfied: numpy>=1.17.5 in /usr/local/lib/python3.8/dist-packages (from h5py) (1.21.6)\n"
          ]
        }
      ]
    },
    {
      "cell_type": "code",
      "source": [
        "# save the model from file\n",
        "model.save('model.h5')"
      ],
      "metadata": {
        "id": "Qw_y1C3SbYyR"
      },
      "execution_count": null,
      "outputs": []
    },
    {
      "cell_type": "code",
      "source": [
        "from tensorflow.keras.models import load_model\n",
        "\n",
        "# load the model from file\n",
        "model = load_model('model.h5')"
      ],
      "metadata": {
        "id": "S2f07lsvbdJD"
      },
      "execution_count": null,
      "outputs": []
    }
  ]
}